{
 "cells": [
  {
   "cell_type": "markdown",
   "metadata": {},
   "source": [
    "##### python3"
   ]
  },
  {
   "cell_type": "markdown",
   "metadata": {},
   "source": [
    "2018-07-11 作成"
   ]
  },
  {
   "cell_type": "code",
   "execution_count": 1,
   "metadata": {
    "collapsed": true
   },
   "outputs": [],
   "source": [
    "#!usr/bin/python\n",
    "# -*- coding: UTF-8 -*-"
   ]
  },
  {
   "cell_type": "markdown",
   "metadata": {},
   "source": [
    "# 準備"
   ]
  },
  {
   "cell_type": "markdown",
   "metadata": {},
   "source": [
    "## モジュールのインポート"
   ]
  },
  {
   "cell_type": "code",
   "execution_count": 2,
   "metadata": {
    "collapsed": true
   },
   "outputs": [],
   "source": [
    "import os\n",
    "import time\n",
    "from urllib.request import urlopen\n",
    "from bs4 import BeautifulSoup"
   ]
  },
  {
   "cell_type": "markdown",
   "metadata": {},
   "source": [
    "## logのためのおまじない"
   ]
  },
  {
   "cell_type": "code",
   "execution_count": 3,
   "metadata": {
    "collapsed": true
   },
   "outputs": [],
   "source": [
    "# logのためのおまじまい\n",
    "from logging import getLogger, StreamHandler, DEBUG\n",
    "logger = getLogger(__name__)\n",
    "handler = StreamHandler()\n",
    "handler.setLevel(DEBUG)\n",
    "logger.setLevel(DEBUG)\n",
    "logger.addHandler(handler)\n",
    "logger.propagate = False"
   ]
  },
  {
   "cell_type": "code",
   "execution_count": 4,
   "metadata": {
    "collapsed": false
   },
   "outputs": [
    {
     "name": "stderr",
     "output_type": "stream",
     "text": [
      "starting...\n"
     ]
    }
   ],
   "source": [
    "logger.debug('starting...')"
   ]
  },
  {
   "cell_type": "markdown",
   "metadata": {},
   "source": [
    "# 関数の定義"
   ]
  },
  {
   "cell_type": "markdown",
   "metadata": {},
   "source": [
    "## 作品名を取得"
   ]
  },
  {
   "cell_type": "code",
   "execution_count": 5,
   "metadata": {
    "collapsed": true
   },
   "outputs": [],
   "source": [
    "def getStoryTitle(url):\n",
    "    html = urlopen(url)\n",
    "    bsObj = BeautifulSoup(html,\"html.parser\")\n",
    "    \n",
    "    # 本文のHTMLをリスト形式で抜き出す\n",
    "    story_title = bsObj.findAll(\"p\",{\"class\":\"novel_title\"})[0].get_text()\n",
    "    \n",
    "    return story_title\n"
   ]
  },
  {
   "cell_type": "markdown",
   "metadata": {},
   "source": [
    "## 本文ページから本文を抜き出す"
   ]
  },
  {
   "cell_type": "code",
   "execution_count": 6,
   "metadata": {
    "collapsed": false
   },
   "outputs": [],
   "source": [
    "# （getAllTexts関数内で使用）\n",
    "def getMainText(title, date, url):\n",
    "    html = urlopen(url)\n",
    "    bsObj = BeautifulSoup(html,\"html.parser\")\n",
    "    \n",
    "    # 本文のHTMLをリスト形式で抜き出す\n",
    "    text_htmls = bsObj.findAll(\"div\",{\"id\":\"novel_honbun\"})[0].findAll(\"p\")\n",
    "\n",
    "    # 「title<title_date>date<date_url>url<url_text>text」という様式でテキスト化\n",
    "    text = title + \"<title_date>\" + date + \"<date_url>\" + url + \"<url_text>\"\n",
    "    for text_html in text_htmls:\n",
    "        text = text + text_html.get_text() + \"\\n\"\n",
    "\n",
    "    # サーバに負荷をかけないために、1s処理を止める\n",
    "    time.sleep(1)\n",
    "    \n",
    "    return text"
   ]
  },
  {
   "cell_type": "markdown",
   "metadata": {},
   "source": [
    "## すべての本文ページに順次アクセスし、本文を抜き出してリスト化"
   ]
  },
  {
   "cell_type": "code",
   "execution_count": 8,
   "metadata": {
    "collapsed": true
   },
   "outputs": [],
   "source": [
    "def getAllTexts(url):\n",
    "    start = time.time()\n",
    "    \n",
    "    # 作品ページから各話の情報を抜き出す\n",
    "    html = urlopen(url)\n",
    "    bsObj = BeautifulSoup(html,\"html.parser\")\n",
    "    \n",
    "    text_url_lists =[]\n",
    "    \n",
    "    for i in range(len(bsObj.findAll(\"dd\",{\"class\":\"subtitle\"}))):\n",
    "        title = bsObj.findAll(\"dd\",{\"class\":\"subtitle\"})[i].findAll(\"a\")[0].get_text()\n",
    "        date = bsObj.findAll(\"dt\",{\"class\":\"long_update\"})[i].get_text()\n",
    "        url_2 = bsObj.findAll(\"dd\",{\"class\":\"subtitle\"})[i].findAll(\"a\")[0].attrs[\"href\"]\n",
    "        tmp_list = [title, date, url_2]\n",
    "        text_url_lists.append(tmp_list)\n",
    "\n",
    "\n",
    "    # 各話それぞれで処理を行い、「title<title_date>date<date_text>text」という様式で各話をリスト化\n",
    "    text_list = []\n",
    "    for text_url_list in text_url_lists:\n",
    "        title = text_url_list[0]\n",
    "        date = text_url_list[1]\n",
    "        url_no = text_url_list[2]\n",
    "        url_no = url_no.split(\"/\")[-2]\n",
    "        full_url = url + url_no\n",
    "\n",
    "        html = urlopen(full_url)\n",
    "        bsObj = BeautifulSoup(html,\"html.parser\")\n",
    "\n",
    "        # 「title<title_date>date<date_url>url<url_text>text」という様式でテキスト化\n",
    "        text = getMainText(title, date, full_url)\n",
    "        \n",
    "        # リストに追加\n",
    "        text_list.append(text)\n",
    "        \n",
    "        # 処理状況の出力\n",
    "        elapsed_time = time.time() - start\n",
    "        logger.debug(\"{0} (scraping_elapsed_time:{1})\".format(full_url, elapsed_time))\n",
    "        \n",
    "    # 処理状況の出力\n",
    "    elapsed_time = time.time() - start\n",
    "    logger.debug(\"scraping_FINISH!! {0} (elapsed_time:{1})\".format(url, elapsed_time))\n",
    "\n",
    "    return text_list\n"
   ]
  },
  {
   "cell_type": "markdown",
   "metadata": {},
   "source": [
    "## txtファイルで保存"
   ]
  },
  {
   "cell_type": "code",
   "execution_count": 9,
   "metadata": {
    "collapsed": true
   },
   "outputs": [],
   "source": [
    "# （textSave関数内で使用）\n",
    "def fileSave(title, number, text, directory_name, encoding=\"utf-8\"):\n",
    "    number_padded = number.zfill(4) # 話数的な数字をゼロパディングで作成\n",
    "    fileName = title.replace(\"/\", \"-\") + \".txt\"\n",
    "    filePath = directory_name + \"/[\" + number_padded + \"]_\" + fileName\n",
    "    with open(filePath, \"w\", encoding=encoding) as f:\n",
    "        f.write(text)\n"
   ]
  },
  {
   "cell_type": "markdown",
   "metadata": {},
   "source": [
    "## すべての話を別個に.txtファイル化"
   ]
  },
  {
   "cell_type": "code",
   "execution_count": 10,
   "metadata": {
    "collapsed": false
   },
   "outputs": [],
   "source": [
    "def textSave(text_list, directory_name):\n",
    "    for text_data in text_list:\n",
    "        title = text_data.split(\"<title_date>\")[0]\n",
    "        number = text_data.split(\"<url_text>\")[0].split(\"/\")[-1] # 話数的な数字を取得\n",
    "        fileSave(title, number, text_data, directory_name, encoding=\"utf-8\")"
   ]
  },
  {
   "cell_type": "markdown",
   "metadata": {},
   "source": [
    "## (b) すべての話を別個に.txtファイル化（テキストのみ保存するバージョン）"
   ]
  },
  {
   "cell_type": "code",
   "execution_count": 10,
   "metadata": {
    "collapsed": true
   },
   "outputs": [],
   "source": [
    "# def textSave(text_list, directory_name):\n",
    "#     for text_data in text_list:\n",
    "#         title = text_data.split(\"<title_date>\")[0]\n",
    "#         text = text_data.split(\"<url_text>\")[1]\n",
    "\n",
    "#         fileSave(title, text, directory_name, encoding=\"utf-8\")"
   ]
  },
  {
   "cell_type": "markdown",
   "metadata": {},
   "source": [
    "# スクレイピングを実行"
   ]
  },
  {
   "cell_type": "code",
   "execution_count": 11,
   "metadata": {
    "collapsed": false,
    "scrolled": true
   },
   "outputs": [
    {
     "name": "stderr",
     "output_type": "stream",
     "text": [
      "https://ncode.syosetu.com/n5881cl/1 (scraping_elapsed_time:10.469744682312012)\n",
      "https://ncode.syosetu.com/n5881cl/2 (scraping_elapsed_time:12.38495945930481)\n",
      "https://ncode.syosetu.com/n5881cl/3 (scraping_elapsed_time:14.34810471534729)\n",
      "https://ncode.syosetu.com/n5881cl/4 (scraping_elapsed_time:16.743192195892334)\n",
      "https://ncode.syosetu.com/n5881cl/5 (scraping_elapsed_time:18.60998034477234)\n",
      "https://ncode.syosetu.com/n5881cl/6 (scraping_elapsed_time:20.494576930999756)\n",
      "https://ncode.syosetu.com/n5881cl/7 (scraping_elapsed_time:22.545565843582153)\n",
      "https://ncode.syosetu.com/n5881cl/8 (scraping_elapsed_time:24.636155128479004)\n",
      "https://ncode.syosetu.com/n5881cl/9 (scraping_elapsed_time:26.759738206863403)\n",
      "https://ncode.syosetu.com/n5881cl/10 (scraping_elapsed_time:28.905482292175293)\n",
      "https://ncode.syosetu.com/n5881cl/11 (scraping_elapsed_time:31.018745183944702)\n",
      "https://ncode.syosetu.com/n5881cl/12 (scraping_elapsed_time:33.23059272766113)\n",
      "https://ncode.syosetu.com/n5881cl/13 (scraping_elapsed_time:36.66368746757507)\n",
      "https://ncode.syosetu.com/n5881cl/14 (scraping_elapsed_time:38.95416307449341)\n",
      "https://ncode.syosetu.com/n5881cl/15 (scraping_elapsed_time:41.05303144454956)\n",
      "https://ncode.syosetu.com/n5881cl/16 (scraping_elapsed_time:43.39821481704712)\n",
      "https://ncode.syosetu.com/n5881cl/17 (scraping_elapsed_time:45.61542320251465)\n",
      "https://ncode.syosetu.com/n5881cl/18 (scraping_elapsed_time:47.895951986312866)\n",
      "https://ncode.syosetu.com/n5881cl/19 (scraping_elapsed_time:50.030906677246094)\n",
      "https://ncode.syosetu.com/n5881cl/20 (scraping_elapsed_time:52.498918533325195)\n",
      "https://ncode.syosetu.com/n5881cl/21 (scraping_elapsed_time:54.80391764640808)\n",
      "https://ncode.syosetu.com/n5881cl/22 (scraping_elapsed_time:57.04340219497681)\n",
      "https://ncode.syosetu.com/n5881cl/23 (scraping_elapsed_time:59.17248845100403)\n",
      "https://ncode.syosetu.com/n5881cl/24 (scraping_elapsed_time:61.33219289779663)\n",
      "https://ncode.syosetu.com/n5881cl/25 (scraping_elapsed_time:63.97756266593933)\n",
      "https://ncode.syosetu.com/n5881cl/26 (scraping_elapsed_time:66.55508041381836)\n",
      "https://ncode.syosetu.com/n5881cl/27 (scraping_elapsed_time:69.23554015159607)\n",
      "https://ncode.syosetu.com/n5881cl/28 (scraping_elapsed_time:71.39329957962036)\n",
      "https://ncode.syosetu.com/n5881cl/29 (scraping_elapsed_time:73.42213487625122)\n",
      "https://ncode.syosetu.com/n5881cl/30 (scraping_elapsed_time:75.53991675376892)\n",
      "https://ncode.syosetu.com/n5881cl/31 (scraping_elapsed_time:78.5193555355072)\n",
      "https://ncode.syosetu.com/n5881cl/32 (scraping_elapsed_time:81.53816175460815)\n",
      "https://ncode.syosetu.com/n5881cl/33 (scraping_elapsed_time:83.70703482627869)\n",
      "https://ncode.syosetu.com/n5881cl/34 (scraping_elapsed_time:86.53765201568604)\n",
      "https://ncode.syosetu.com/n5881cl/35 (scraping_elapsed_time:88.771080493927)\n",
      "https://ncode.syosetu.com/n5881cl/36 (scraping_elapsed_time:91.00355529785156)\n",
      "https://ncode.syosetu.com/n5881cl/37 (scraping_elapsed_time:94.168874502182)\n",
      "https://ncode.syosetu.com/n5881cl/38 (scraping_elapsed_time:96.16004824638367)\n",
      "https://ncode.syosetu.com/n5881cl/39 (scraping_elapsed_time:98.29196286201477)\n",
      "https://ncode.syosetu.com/n5881cl/40 (scraping_elapsed_time:100.46771383285522)\n",
      "https://ncode.syosetu.com/n5881cl/41 (scraping_elapsed_time:102.72625494003296)\n",
      "https://ncode.syosetu.com/n5881cl/42 (scraping_elapsed_time:105.54228973388672)\n",
      "https://ncode.syosetu.com/n5881cl/43 (scraping_elapsed_time:107.84497380256653)\n",
      "https://ncode.syosetu.com/n5881cl/44 (scraping_elapsed_time:110.45155835151672)\n",
      "https://ncode.syosetu.com/n5881cl/45 (scraping_elapsed_time:113.23927879333496)\n",
      "https://ncode.syosetu.com/n5881cl/46 (scraping_elapsed_time:115.72840523719788)\n",
      "https://ncode.syosetu.com/n5881cl/47 (scraping_elapsed_time:118.47553992271423)\n",
      "https://ncode.syosetu.com/n5881cl/48 (scraping_elapsed_time:120.94140887260437)\n",
      "https://ncode.syosetu.com/n5881cl/49 (scraping_elapsed_time:123.35990309715271)\n",
      "https://ncode.syosetu.com/n5881cl/50 (scraping_elapsed_time:126.03872799873352)\n",
      "https://ncode.syosetu.com/n5881cl/51 (scraping_elapsed_time:128.4226438999176)\n",
      "https://ncode.syosetu.com/n5881cl/52 (scraping_elapsed_time:131.84818029403687)\n",
      "https://ncode.syosetu.com/n5881cl/53 (scraping_elapsed_time:134.32425379753113)\n",
      "https://ncode.syosetu.com/n5881cl/54 (scraping_elapsed_time:137.13201308250427)\n",
      "https://ncode.syosetu.com/n5881cl/55 (scraping_elapsed_time:139.885662317276)\n",
      "https://ncode.syosetu.com/n5881cl/56 (scraping_elapsed_time:143.91596364974976)\n",
      "https://ncode.syosetu.com/n5881cl/57 (scraping_elapsed_time:147.16872262954712)\n",
      "https://ncode.syosetu.com/n5881cl/58 (scraping_elapsed_time:149.8465175628662)\n",
      "https://ncode.syosetu.com/n5881cl/59 (scraping_elapsed_time:152.38612127304077)\n",
      "https://ncode.syosetu.com/n5881cl/60 (scraping_elapsed_time:155.1740562915802)\n",
      "https://ncode.syosetu.com/n5881cl/61 (scraping_elapsed_time:158.4121036529541)\n",
      "https://ncode.syosetu.com/n5881cl/62 (scraping_elapsed_time:160.9827857017517)\n",
      "https://ncode.syosetu.com/n5881cl/63 (scraping_elapsed_time:164.5727574825287)\n",
      "https://ncode.syosetu.com/n5881cl/64 (scraping_elapsed_time:167.11550402641296)\n",
      "https://ncode.syosetu.com/n5881cl/65 (scraping_elapsed_time:169.62614345550537)\n",
      "https://ncode.syosetu.com/n5881cl/66 (scraping_elapsed_time:172.99978923797607)\n",
      "https://ncode.syosetu.com/n5881cl/67 (scraping_elapsed_time:176.7925455570221)\n",
      "https://ncode.syosetu.com/n5881cl/68 (scraping_elapsed_time:179.3035488128662)\n",
      "https://ncode.syosetu.com/n5881cl/69 (scraping_elapsed_time:181.85513019561768)\n",
      "https://ncode.syosetu.com/n5881cl/70 (scraping_elapsed_time:184.90759778022766)\n",
      "https://ncode.syosetu.com/n5881cl/71 (scraping_elapsed_time:187.37111735343933)\n",
      "https://ncode.syosetu.com/n5881cl/72 (scraping_elapsed_time:189.87607598304749)\n",
      "https://ncode.syosetu.com/n5881cl/73 (scraping_elapsed_time:192.50186276435852)\n",
      "https://ncode.syosetu.com/n5881cl/74 (scraping_elapsed_time:195.23474621772766)\n",
      "https://ncode.syosetu.com/n5881cl/75 (scraping_elapsed_time:197.83463072776794)\n",
      "https://ncode.syosetu.com/n5881cl/76 (scraping_elapsed_time:202.04154896736145)\n",
      "https://ncode.syosetu.com/n5881cl/77 (scraping_elapsed_time:204.9016134738922)\n",
      "https://ncode.syosetu.com/n5881cl/78 (scraping_elapsed_time:207.35149478912354)\n",
      "https://ncode.syosetu.com/n5881cl/79 (scraping_elapsed_time:209.93916416168213)\n",
      "https://ncode.syosetu.com/n5881cl/80 (scraping_elapsed_time:212.59584403038025)\n",
      "https://ncode.syosetu.com/n5881cl/81 (scraping_elapsed_time:215.6862404346466)\n",
      "https://ncode.syosetu.com/n5881cl/82 (scraping_elapsed_time:219.01942920684814)\n",
      "https://ncode.syosetu.com/n5881cl/83 (scraping_elapsed_time:221.61980509757996)\n",
      "https://ncode.syosetu.com/n5881cl/84 (scraping_elapsed_time:224.58571338653564)\n",
      "https://ncode.syosetu.com/n5881cl/85 (scraping_elapsed_time:227.5239086151123)\n",
      "https://ncode.syosetu.com/n5881cl/86 (scraping_elapsed_time:231.0020616054535)\n",
      "https://ncode.syosetu.com/n5881cl/87 (scraping_elapsed_time:233.62633085250854)\n",
      "https://ncode.syosetu.com/n5881cl/88 (scraping_elapsed_time:236.0400459766388)\n",
      "https://ncode.syosetu.com/n5881cl/89 (scraping_elapsed_time:239.51621794700623)\n",
      "https://ncode.syosetu.com/n5881cl/90 (scraping_elapsed_time:242.1090338230133)\n",
      "https://ncode.syosetu.com/n5881cl/91 (scraping_elapsed_time:244.58379769325256)\n",
      "https://ncode.syosetu.com/n5881cl/92 (scraping_elapsed_time:248.23632502555847)\n",
      "https://ncode.syosetu.com/n5881cl/93 (scraping_elapsed_time:250.68218326568604)\n",
      "https://ncode.syosetu.com/n5881cl/94 (scraping_elapsed_time:253.28405141830444)\n",
      "https://ncode.syosetu.com/n5881cl/95 (scraping_elapsed_time:257.0199251174927)\n",
      "https://ncode.syosetu.com/n5881cl/96 (scraping_elapsed_time:259.52139711380005)\n",
      "https://ncode.syosetu.com/n5881cl/97 (scraping_elapsed_time:261.77729320526123)\n",
      "https://ncode.syosetu.com/n5881cl/98 (scraping_elapsed_time:264.2367262840271)\n",
      "https://ncode.syosetu.com/n5881cl/99 (scraping_elapsed_time:267.30855083465576)\n",
      "https://ncode.syosetu.com/n5881cl/100 (scraping_elapsed_time:269.80403876304626)\n",
      "https://ncode.syosetu.com/n5881cl/101 (scraping_elapsed_time:272.62770318984985)\n",
      "https://ncode.syosetu.com/n5881cl/102 (scraping_elapsed_time:275.273948431015)\n",
      "https://ncode.syosetu.com/n5881cl/103 (scraping_elapsed_time:277.96263003349304)\n",
      "https://ncode.syosetu.com/n5881cl/104 (scraping_elapsed_time:280.4359791278839)\n",
      "https://ncode.syosetu.com/n5881cl/105 (scraping_elapsed_time:284.11846709251404)\n",
      "https://ncode.syosetu.com/n5881cl/106 (scraping_elapsed_time:286.5191123485565)\n",
      "https://ncode.syosetu.com/n5881cl/107 (scraping_elapsed_time:289.59123373031616)\n",
      "https://ncode.syosetu.com/n5881cl/108 (scraping_elapsed_time:292.1320741176605)\n",
      "https://ncode.syosetu.com/n5881cl/109 (scraping_elapsed_time:294.4700813293457)\n",
      "https://ncode.syosetu.com/n5881cl/110 (scraping_elapsed_time:296.8021583557129)\n",
      "https://ncode.syosetu.com/n5881cl/111 (scraping_elapsed_time:299.1046624183655)\n",
      "https://ncode.syosetu.com/n5881cl/112 (scraping_elapsed_time:301.60911083221436)\n",
      "https://ncode.syosetu.com/n5881cl/113 (scraping_elapsed_time:304.1572616100311)\n",
      "https://ncode.syosetu.com/n5881cl/114 (scraping_elapsed_time:307.22805857658386)\n",
      "https://ncode.syosetu.com/n5881cl/115 (scraping_elapsed_time:309.65809750556946)\n",
      "https://ncode.syosetu.com/n5881cl/116 (scraping_elapsed_time:312.10689902305603)\n",
      "https://ncode.syosetu.com/n5881cl/117 (scraping_elapsed_time:314.9095139503479)\n",
      "https://ncode.syosetu.com/n5881cl/118 (scraping_elapsed_time:317.48606848716736)\n",
      "https://ncode.syosetu.com/n5881cl/119 (scraping_elapsed_time:320.07093334198)\n",
      "https://ncode.syosetu.com/n5881cl/120 (scraping_elapsed_time:323.97928190231323)\n",
      "https://ncode.syosetu.com/n5881cl/121 (scraping_elapsed_time:326.20634365081787)\n",
      "https://ncode.syosetu.com/n5881cl/122 (scraping_elapsed_time:328.5331370830536)\n",
      "https://ncode.syosetu.com/n5881cl/123 (scraping_elapsed_time:330.65305638313293)\n",
      "https://ncode.syosetu.com/n5881cl/124 (scraping_elapsed_time:332.98513889312744)\n",
      "https://ncode.syosetu.com/n5881cl/125 (scraping_elapsed_time:335.4910273551941)\n",
      "https://ncode.syosetu.com/n5881cl/126 (scraping_elapsed_time:337.9732084274292)\n",
      "https://ncode.syosetu.com/n5881cl/127 (scraping_elapsed_time:340.5849440097809)\n",
      "https://ncode.syosetu.com/n5881cl/128 (scraping_elapsed_time:342.78895115852356)\n",
      "https://ncode.syosetu.com/n5881cl/129 (scraping_elapsed_time:345.0256381034851)\n",
      "https://ncode.syosetu.com/n5881cl/130 (scraping_elapsed_time:347.84046721458435)\n",
      "https://ncode.syosetu.com/n5881cl/131 (scraping_elapsed_time:350.3486511707306)\n",
      "scraping_FINISH!! https://ncode.syosetu.com/n5881cl/ (elapsed_time:350.35065150260925)\n"
     ]
    }
   ],
   "source": [
    "# メイン処理\n",
    "# --------------------------------------\n",
    "# 作品ページのURLを指定（コメントアウト・コメントインで指定できるようにしています）\n",
    "# ※すでに保存済みの作品を指定するとエラーが出て処理が止まります。\n",
    "url_list = [\n",
    "#     \"https://ncode.syosetu.com/n2031cu/\" # 異世界転移で女神様から祝福を！　～いえ、手持ちの異能があるので結構です～\n",
    "#     ,\n",
    "#     \"https://ncode.syosetu.com/n6316bn/\" # 転生したらスライムだった件\n",
    "#     ,\n",
    "#     \"https://ncode.syosetu.com/n3009bk/\" # 盾の勇者の成り上がり\n",
    "#     ,\n",
    "#     \"https://ncode.syosetu.com/n6475db/\" # 私、能力は平均値でって言ったよね！\n",
    "#     ,\n",
    "    \"https://ncode.syosetu.com/n5881cl/\" # 賢者の孫\n",
    "#     ,\n",
    "#     \"https://ncode.syosetu.com/n2267be/\" # Ｒｅ：ゼロから始める異世界生活\n",
    "#     ,\n",
    "#     \"https://ncode.syosetu.com/n1882ei/\" # 蒼炎の騎士\n",
    "#     ,\n",
    "#     \"https://ncode.syosetu.com/n6441eb/\" # 図書館の魔女と嵐の孤島。\n",
    "           ]\n",
    "# --------------------------------------\n",
    "\n",
    "# --------------------------------------\n",
    "# 各作品を保存するディレクトリ名を指定（存在しなければ作成されます）\n",
    "directory = \"text\"\n",
    "# --------------------------------------\n",
    "\n",
    "# 各作品に処理を実行\n",
    "for url in url_list:\n",
    "    # 作品名を取得\n",
    "    story_title = getStoryTitle(url)\n",
    "\n",
    "    # 作品名をディレクトリ名にする\n",
    "    directory_name = directory + \"/\" + story_title\n",
    "    \n",
    "    # 作品ディレクトリを作成\n",
    "    os.makedirs(directory_name)\n",
    "\n",
    "    # すべての本文ページから本文を抜き出してリスト化\n",
    "    text_list = getAllTexts(url)\n",
    "\n",
    "    # 各話を別々に.txtファイルで保存\n",
    "    textSave(text_list, directory_name)"
   ]
  }
 ],
 "metadata": {
  "anaconda-cloud": {},
  "kernelspec": {
   "display_name": "Python [py35]",
   "language": "python",
   "name": "Python [py35]"
  },
  "language_info": {
   "codemirror_mode": {
    "name": "ipython",
    "version": 3
   },
   "file_extension": ".py",
   "mimetype": "text/x-python",
   "name": "python",
   "nbconvert_exporter": "python",
   "pygments_lexer": "ipython3",
   "version": "3.5.2"
  },
  "toc": {
   "colors": {
    "hover_highlight": "#DAA520",
    "running_highlight": "#FF0000",
    "selected_highlight": "#FFD700"
   },
   "moveMenuLeft": true,
   "nav_menu": {
    "height": "102px",
    "width": "252px"
   },
   "navigate_menu": true,
   "number_sections": true,
   "sideBar": true,
   "threshold": 4,
   "toc_cell": false,
   "toc_section_display": "block",
   "toc_window_display": false
  }
 },
 "nbformat": 4,
 "nbformat_minor": 0
}
