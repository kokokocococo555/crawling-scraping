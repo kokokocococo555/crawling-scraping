{
 "cells": [
  {
   "cell_type": "markdown",
   "metadata": {},
   "source": [
    "##### python3"
   ]
  },
  {
   "cell_type": "markdown",
   "metadata": {},
   "source": [
    "2018-07-11 作成"
   ]
  },
  {
   "cell_type": "code",
   "execution_count": null,
   "metadata": {
    "collapsed": true
   },
   "outputs": [],
   "source": [
    "#!usr/bin/python\n",
    "# -*- coding: UTF-8 -*-"
   ]
  },
  {
   "cell_type": "markdown",
   "metadata": {},
   "source": [
    "# 準備"
   ]
  },
  {
   "cell_type": "markdown",
   "metadata": {},
   "source": [
    "## モジュールのインポート"
   ]
  },
  {
   "cell_type": "code",
   "execution_count": null,
   "metadata": {
    "collapsed": true
   },
   "outputs": [],
   "source": [
    "import os\n",
    "import time\n",
    "from urllib.request import urlopen\n",
    "from bs4 import BeautifulSoup"
   ]
  },
  {
   "cell_type": "markdown",
   "metadata": {},
   "source": [
    "## logのためのおまじない"
   ]
  },
  {
   "cell_type": "code",
   "execution_count": null,
   "metadata": {
    "collapsed": true
   },
   "outputs": [],
   "source": [
    "# logのためのおまじまい\n",
    "from logging import getLogger, StreamHandler, DEBUG\n",
    "logger = getLogger(__name__)\n",
    "handler = StreamHandler()\n",
    "handler.setLevel(DEBUG)\n",
    "logger.setLevel(DEBUG)\n",
    "logger.addHandler(handler)\n",
    "logger.propagate = False"
   ]
  },
  {
   "cell_type": "code",
   "execution_count": null,
   "metadata": {
    "collapsed": false
   },
   "outputs": [],
   "source": [
    "logger.debug('starting...')"
   ]
  },
  {
   "cell_type": "markdown",
   "metadata": {},
   "source": [
    "# 関数の定義"
   ]
  },
  {
   "cell_type": "markdown",
   "metadata": {},
   "source": [
    "## 作品名を取得"
   ]
  },
  {
   "cell_type": "code",
   "execution_count": null,
   "metadata": {
    "collapsed": true
   },
   "outputs": [],
   "source": [
    "def getStoryTitle(url):\n",
    "    html = urlopen(url)\n",
    "    bsObj = BeautifulSoup(html,\"html.parser\")\n",
    "    \n",
    "    # 本文のHTMLをリスト形式で抜き出す\n",
    "    story_title = bsObj.findAll(\"p\",{\"class\":\"novel_title\"})[0].get_text()\n",
    "    \n",
    "    return story_title\n"
   ]
  },
  {
   "cell_type": "markdown",
   "metadata": {},
   "source": [
    "## 本文ページから本文を抜き出す"
   ]
  },
  {
   "cell_type": "code",
   "execution_count": null,
   "metadata": {
    "collapsed": false
   },
   "outputs": [],
   "source": [
    "# （getAllTexts関数内で使用）\n",
    "def getMainText(title, date, url):\n",
    "    html = urlopen(url)\n",
    "    bsObj = BeautifulSoup(html,\"html.parser\")\n",
    "    \n",
    "    # 本文のHTMLをリスト形式で抜き出す\n",
    "    text_htmls = bsObj.findAll(\"div\",{\"id\":\"novel_honbun\"})[0].findAll(\"p\")\n",
    "\n",
    "    # 「title<title_date>date<date_url>url<url_text>text」という様式でテキスト化\n",
    "    text = title + \"<title_date>\" + date + \"<date_url>\" + url + \"<url_text>\"\n",
    "    for text_html in text_htmls:\n",
    "        text = text + text_html.get_text() + \"\\n\"\n",
    "\n",
    "    # サーバに負荷をかけないために、1s処理を止める\n",
    "    time.sleep(1)\n",
    "    \n",
    "    return text"
   ]
  },
  {
   "cell_type": "markdown",
   "metadata": {},
   "source": [
    "## すべての本文ページに順次アクセスし、本文を抜き出してリスト化"
   ]
  },
  {
   "cell_type": "code",
   "execution_count": null,
   "metadata": {
    "collapsed": true
   },
   "outputs": [],
   "source": [
    "def getAllTexts(url):\n",
    "    start = time.time()\n",
    "    \n",
    "    # 作品ページから各話の情報を抜き出す\n",
    "    html = urlopen(url)\n",
    "    bsObj = BeautifulSoup(html,\"html.parser\")\n",
    "    \n",
    "    text_url_lists =[]\n",
    "    \n",
    "    for i in range(len(bsObj.findAll(\"dd\",{\"class\":\"subtitle\"}))):\n",
    "        title = bsObj.findAll(\"dd\",{\"class\":\"subtitle\"})[i].findAll(\"a\")[0].get_text()\n",
    "        date = bsObj.findAll(\"dt\",{\"class\":\"long_update\"})[i].get_text()\n",
    "        url_2 = bsObj.findAll(\"dd\",{\"class\":\"subtitle\"})[i].findAll(\"a\")[0].attrs[\"href\"]\n",
    "        tmp_list = [title, date, url_2]\n",
    "        text_url_lists.append(tmp_list)\n",
    "\n",
    "\n",
    "    # 各話それぞれで処理を行い、「title<title_date>date<date_text>text」という様式で各話をリスト化\n",
    "    text_list = []\n",
    "    for text_url_list in text_url_lists:\n",
    "        title = text_url_list[0]\n",
    "        date = text_url_list[1]\n",
    "        url_no = text_url_list[2]\n",
    "        url_no = url_no.split(\"/\")[-2]\n",
    "        full_url = url + url_no\n",
    "\n",
    "        html = urlopen(full_url)\n",
    "        bsObj = BeautifulSoup(html,\"html.parser\")\n",
    "\n",
    "        # 「title<title_date>date<date_url>url<url_text>text」という様式でテキスト化\n",
    "        text = getMainText(title, date, full_url)\n",
    "        \n",
    "        # リストに追加\n",
    "        text_list.append(text)\n",
    "        \n",
    "        # 処理状況の出力\n",
    "        elapsed_time = time.time() - start\n",
    "        logger.debug(\"{0} (scraping_elapsed_time:{1})\".format(full_url, elapsed_time))\n",
    "        \n",
    "    # 処理状況の出力\n",
    "    elapsed_time = time.time() - start\n",
    "    logger.debug(\"scraping_FINISH!! {0} (elapsed_time:{1})\".format(url, elapsed_time))\n",
    "\n",
    "    return text_list\n"
   ]
  },
  {
   "cell_type": "markdown",
   "metadata": {},
   "source": [
    "## txtファイルで保存"
   ]
  },
  {
   "cell_type": "code",
   "execution_count": null,
   "metadata": {
    "collapsed": true
   },
   "outputs": [],
   "source": [
    "# （textSave関数内で使用）\n",
    "def fileSave(title, number, text, directory_name, encoding=\"utf-8\"):\n",
    "    number_padded = number.zfill(4) # 話数的な数字をゼロパディングで作成\n",
    "    fileName = title.replace(\"/\", \"-\") + \".txt\"\n",
    "    filePath = directory_name + \"/[\" + number_padded + \"]_\" + fileName\n",
    "    with open(filePath, \"w\", encoding=encoding) as f:\n",
    "        f.write(text)\n"
   ]
  },
  {
   "cell_type": "markdown",
   "metadata": {},
   "source": [
    "## すべての話を別個に.txtファイル化"
   ]
  },
  {
   "cell_type": "code",
   "execution_count": null,
   "metadata": {
    "collapsed": false
   },
   "outputs": [],
   "source": [
    "def textSave(text_list, directory_name):\n",
    "    for text_data in text_list:\n",
    "        title = text_data.split(\"<title_date>\")[0]\n",
    "        number = text_data.split(\"<url_text>\")[0].split(\"/\")[-1] # 話数的な数字を取得\n",
    "        fileSave(title, number, text_data, directory_name, encoding=\"utf-8\")"
   ]
  },
  {
   "cell_type": "markdown",
   "metadata": {},
   "source": [
    "## (b) すべての話を別個に.txtファイル化（テキストのみ保存するバージョン）"
   ]
  },
  {
   "cell_type": "code",
   "execution_count": null,
   "metadata": {
    "collapsed": true
   },
   "outputs": [],
   "source": [
    "# def textSave(text_list, directory_name):\n",
    "#     for text_data in text_list:\n",
    "#         title = text_data.split(\"<title_date>\")[0]\n",
    "#         text = text_data.split(\"<url_text>\")[1]\n",
    "\n",
    "#         fileSave(title, text, directory_name, encoding=\"utf-8\")"
   ]
  },
  {
   "cell_type": "markdown",
   "metadata": {},
   "source": [
    "# スクレイピングを実行"
   ]
  },
  {
   "cell_type": "code",
   "execution_count": null,
   "metadata": {
    "collapsed": false,
    "scrolled": true
   },
   "outputs": [],
   "source": [
    "# メイン処理\n",
    "# --------------------------------------\n",
    "# 作品ページのURLを指定（コメントアウト・コメントインで指定できるようにしています）\n",
    "# ※すでに保存済みの作品を指定するとエラーが出て処理が止まります。\n",
    "url_list = [\n",
    "    \"https://ncode.syosetu.com/n2267be/\" # Ｒｅ：ゼロから始める異世界生活\n",
    "#     ,\n",
    "#     \"https://ncode.syosetu.com/n2031cu/\" # 異世界転移で女神様から祝福を！　～いえ、手持ちの異能があるので結構です～\n",
    "#     ,\n",
    "#     \"https://ncode.syosetu.com/n6316bn/\" # 転生したらスライムだった件\n",
    "#     ,\n",
    "#     \"https://ncode.syosetu.com/n3009bk/\" # 盾の勇者の成り上がり\n",
    "#     ,\n",
    "#     \"https://ncode.syosetu.com/n6475db/\" # 私、能力は平均値でって言ったよね！\n",
    "#     ,\n",
    "#     \"https://ncode.syosetu.com/n5881cl/\" # 賢者の孫\n",
    "           ]\n",
    "# --------------------------------------\n",
    "\n",
    "# --------------------------------------\n",
    "# 各作品を保存するディレクトリ名を指定（存在しなければ作成されます）\n",
    "directory = \"text\"\n",
    "# --------------------------------------\n",
    "\n",
    "# 各作品に処理を実行\n",
    "for url in url_list:\n",
    "    # 作品名を取得\n",
    "    story_title = getStoryTitle(url)\n",
    "\n",
    "    # 作品名をディレクトリ名にする\n",
    "    directory_name = directory + \"/\" + story_title\n",
    "    \n",
    "    # 作品ディレクトリを作成\n",
    "    os.makedirs(directory_name)\n",
    "\n",
    "    # すべての本文ページから本文を抜き出してリスト化\n",
    "    text_list = getAllTexts(url)\n",
    "\n",
    "    # 各話を別々に.txtファイルで保存\n",
    "    textSave(text_list, directory_name)"
   ]
  }
 ],
 "metadata": {
  "anaconda-cloud": {},
  "kernelspec": {
   "display_name": "Python [py35]",
   "language": "python",
   "name": "Python [py35]"
  },
  "language_info": {
   "codemirror_mode": {
    "name": "ipython",
    "version": 3
   },
   "file_extension": ".py",
   "mimetype": "text/x-python",
   "name": "python",
   "nbconvert_exporter": "python",
   "pygments_lexer": "ipython3",
   "version": "3.5.2"
  },
  "toc": {
   "colors": {
    "hover_highlight": "#DAA520",
    "running_highlight": "#FF0000",
    "selected_highlight": "#FFD700"
   },
   "moveMenuLeft": true,
   "nav_menu": {
    "height": "102px",
    "width": "252px"
   },
   "navigate_menu": true,
   "number_sections": true,
   "sideBar": true,
   "threshold": 4,
   "toc_cell": false,
   "toc_section_display": "block",
   "toc_window_display": false
  }
 },
 "nbformat": 4,
 "nbformat_minor": 0
}
